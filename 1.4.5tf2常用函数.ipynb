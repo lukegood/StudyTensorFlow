{
 "cells": [
  {
   "cell_type": "code",
   "execution_count": 2,
   "metadata": {},
   "outputs": [],
   "source": [
    "import tensorflow as tf\n",
    "import numpy as np"
   ]
  },
  {
   "cell_type": "markdown",
   "metadata": {},
   "source": [
    "1、如何进行张量类型的转换？  \n",
    "使用tf.cast(张量名，dtype=想要转换为的类型）"
   ]
  },
  {
   "cell_type": "code",
   "execution_count": 3,
   "metadata": {},
   "outputs": [
    {
     "name": "stdout",
     "output_type": "stream",
     "text": [
      "tf.Tensor([1. 2. 3.], shape=(3,), dtype=float32)\n",
      "tf.Tensor([1 2 3], shape=(3,), dtype=int64)\n"
     ]
    }
   ],
   "source": [
    "a = tf.constant([1., 2., 3.], dtype=tf.float32)\n",
    "print(a)\n",
    "b = tf.cast(a, dtype=tf.int64)\n",
    "print(b)"
   ]
  },
  {
   "cell_type": "markdown",
   "metadata": {},
   "source": [
    "2、如何找到一个张量中指定维度上的最大值或者最小值？  \n",
    "tf.reduce_min(张量名），求最小值  \n",
    "tf.reduce_max(张量名），求最大值"
   ]
  },
  {
   "cell_type": "code",
   "execution_count": 4,
   "metadata": {},
   "outputs": [
    {
     "name": "stdout",
     "output_type": "stream",
     "text": [
      "tf.Tensor(1, shape=(), dtype=int64)\n",
      "tf.Tensor(3, shape=(), dtype=int64)\n"
     ]
    }
   ],
   "source": [
    "print(tf.reduce_min(b))\n",
    "print(tf.reduce_max(b))"
   ]
  },
  {
   "cell_type": "markdown",
   "metadata": {},
   "source": [
    "3、什么是axis？\n",
    "axis用于指定操作的维度。例如，axis=0表示对张量的第一个维度进行操作（跨行），axis=2表示对张量的第二个维度进行操作（跨列）。"
   ]
  },
  {
   "cell_type": "markdown",
   "metadata": {},
   "source": [
    "4、如何在指定维度上对张量求和或者求平均值？  \n",
    "tf.reduce_mean(张量名，axis=要进行操作的维度），对执行维度求平均值。  \n",
    "tf.reduce_sum（张量名，axis=要进行操作的维度）。对指定维度求和。  \n",
    "如果不填写axis那就是对所有维度进行操作。"
   ]
  },
  {
   "cell_type": "code",
   "execution_count": 5,
   "metadata": {},
   "outputs": [
    {
     "name": "stdout",
     "output_type": "stream",
     "text": [
      "tf.Tensor(\n",
      "[[2 3 4]\n",
      " [3 6 9]], shape=(2, 3), dtype=int64)\n",
      "tf.Tensor([2 4 6], shape=(3,), dtype=int64)\n",
      "tf.Tensor([ 9 18], shape=(2,), dtype=int64)\n"
     ]
    }
   ],
   "source": [
    "c = tf.constant([[2,3,4],[3,6,9]], dtype=tf.int64)\n",
    "print(c)\n",
    "d = tf.reduce_mean(c, axis = 0)\n",
    "e = tf.reduce_sum(c, axis = 1)\n",
    "print(d)\n",
    "print(e)"
   ]
  },
  {
   "cell_type": "markdown",
   "metadata": {},
   "source": [
    "5、如何将变量标记为可训练？\n",
    "tf.Variable(初始值）将变量标记为可训练。"
   ]
  },
  {
   "cell_type": "code",
   "execution_count": 6,
   "metadata": {},
   "outputs": [
    {
     "data": {
      "text/plain": [
       "<tf.Variable 'Variable:0' shape=(2, 2) dtype=float32, numpy=\n",
       "array([[ 0.73563  ,  0.6767465],\n",
       "       [ 1.8069587, -0.8069413]], dtype=float32)>"
      ]
     },
     "execution_count": 6,
     "metadata": {},
     "output_type": "execute_result"
    }
   ],
   "source": [
    "tf.Variable(tf.random.normal([2,2], mean=0.5, stddev=1))"
   ]
  },
  {
   "cell_type": "markdown",
   "metadata": {},
   "source": [
    "6、如何对张量做四则运算？加减乘除\n",
    "tf.add  \n",
    "tf.subtract  \n",
    "tf.mutiply  \n",
    "tf.devide  "
   ]
  },
  {
   "cell_type": "markdown",
   "metadata": {},
   "source": [
    "7、如何对张量平方、指定次数运算、开方？  \n",
    "tf.square  \n",
    "tf.pow  \n",
    "tf.sqrt"
   ]
  },
  {
   "cell_type": "markdown",
   "metadata": {},
   "source": [
    "8、如何做矩阵乘法？  \n",
    "tf.matmul(矩阵1，矩阵2)  "
   ]
  },
  {
   "cell_type": "code",
   "execution_count": 7,
   "metadata": {},
   "outputs": [
    {
     "name": "stdout",
     "output_type": "stream",
     "text": [
      "tf.Tensor(\n",
      "[[24 24 24]\n",
      " [24 24 24]\n",
      " [24 24 24]], shape=(3, 3), dtype=int32)\n"
     ]
    }
   ],
   "source": [
    "f = tf.fill([3,2], 3)\n",
    "g = tf.fill([2,3], 4)\n",
    "h = tf.matmul(f, g)\n",
    "print(h)"
   ]
  },
  {
   "cell_type": "markdown",
   "metadata": {},
   "source": [
    "9、如何将特征和标签进行配对？  \n",
    "tf.data.Dataset.from_tensor_slices((特征，标签))"
   ]
  },
  {
   "cell_type": "code",
   "execution_count": 11,
   "metadata": {},
   "outputs": [
    {
     "name": "stdout",
     "output_type": "stream",
     "text": [
      "<TensorSliceDataset shapes: ((), ()), types: (tf.int32, tf.int32)>\n",
      "(<tf.Tensor: shape=(), dtype=int32, numpy=1>, <tf.Tensor: shape=(), dtype=int32, numpy=0>)\n",
      "(<tf.Tensor: shape=(), dtype=int32, numpy=2>, <tf.Tensor: shape=(), dtype=int32, numpy=1>)\n",
      "(<tf.Tensor: shape=(), dtype=int32, numpy=3>, <tf.Tensor: shape=(), dtype=int32, numpy=0>)\n"
     ]
    }
   ],
   "source": [
    "i = tf.constant([1, 2, 3], dtype=tf.int32)\n",
    "labels = tf.constant([0, 1, 0], dtype=tf.int32)\n",
    "dataset = tf.data.Dataset.from_tensor_slices((i, labels))\n",
    "print(dataset)\n",
    "for data in dataset:\n",
    "    print(data)"
   ]
  },
  {
   "cell_type": "markdown",
   "metadata": {},
   "source": [
    "10、如何进行梯度计算？  \n",
    "with结构记录计算过程，gradient求出张量梯度。  \n",
    "with tf.GradientTape as tape:  \n",
    "  若干个计算过程  \n",
    "grad = tape.gradient(损失函数，要对那个变量求导）"
   ]
  },
  {
   "cell_type": "code",
   "execution_count": 14,
   "metadata": {},
   "outputs": [
    {
     "name": "stdout",
     "output_type": "stream",
     "text": [
      "tf.Tensor(6.0, shape=(), dtype=float32)\n"
     ]
    }
   ],
   "source": [
    "with tf.GradientTape() as tape:\n",
    "    x = tf.Variable(tf.constant(3.0))\n",
    "    y = tf.pow(x, 2)\n",
    "grad = tape.gradient(y, x)\n",
    "print(grad)"
   ]
  },
  {
   "cell_type": "markdown",
   "metadata": {},
   "source": [
    "11、enumerate如何使用？  \n",
    "enumerate用于遍历每一个元素并且将其和索引号组合。组合后的形式为：索引 元素"
   ]
  },
  {
   "cell_type": "code",
   "execution_count": 16,
   "metadata": {},
   "outputs": [
    {
     "name": "stdout",
     "output_type": "stream",
     "text": [
      "0 tf.Tensor(1, shape=(), dtype=int32)\n",
      "1 tf.Tensor(2, shape=(), dtype=int32)\n",
      "2 tf.Tensor(3, shape=(), dtype=int32)\n"
     ]
    }
   ],
   "source": [
    "j = tf.constant([1,2,3])\n",
    "for i, element in enumerate(j):\n",
    "    print (i, element)"
   ]
  },
  {
   "cell_type": "markdown",
   "metadata": {},
   "source": [
    "12、如何将标签转换为独热码表示？\n",
    "tf.one_hot(待转换数据，depth=几分类）  "
   ]
  },
  {
   "cell_type": "code",
   "execution_count": 18,
   "metadata": {},
   "outputs": [
    {
     "name": "stdout",
     "output_type": "stream",
     "text": [
      "tf.Tensor(\n",
      "[[1. 0. 0.]\n",
      " [0. 1. 0.]\n",
      " [0. 0. 1.]], shape=(3, 3), dtype=float32)\n"
     ]
    }
   ],
   "source": [
    "labels = tf.constant([0,1,2])\n",
    "classes = 3\n",
    "output = tf.one_hot(labels, depth=classes)\n",
    "print(output)"
   ]
  },
  {
   "cell_type": "markdown",
   "metadata": {},
   "source": [
    "13、如何让输出符合概率分布？  \n",
    "tf.nn.softmax(输出变量)  \n",
    "![](1-45-1.png)\n",
    "![](1-45-2.png)"
   ]
  },
  {
   "cell_type": "code",
   "execution_count": 19,
   "metadata": {},
   "outputs": [
    {
     "name": "stdout",
     "output_type": "stream",
     "text": [
      "tf.Tensor([0.22033429 0.7388876  0.04077813], shape=(3,), dtype=float32)\n"
     ]
    }
   ],
   "source": [
    "y = tf.constant([1.12, 2.33, -0.567])\n",
    "y_pro = tf.nn.softmax(y)\n",
    "print(y_pro)"
   ]
  },
  {
   "cell_type": "markdown",
   "metadata": {},
   "source": [
    "14、如何进行自减更新？  \n",
    "首先必须要将变量标记为可训练。  \n",
    "w.assign_sub(自减值)"
   ]
  },
  {
   "cell_type": "code",
   "execution_count": 20,
   "metadata": {},
   "outputs": [
    {
     "name": "stdout",
     "output_type": "stream",
     "text": [
      "<tf.Variable 'Variable:0' shape=() dtype=int32, numpy=6>\n"
     ]
    }
   ],
   "source": [
    "w = tf.Variable(tf.constant(7))\n",
    "w.assign_sub(1)\n",
    "print(w)"
   ]
  },
  {
   "cell_type": "markdown",
   "metadata": {},
   "source": [
    "15、如何返回张量沿指定方向最大值的索引？  \n",
    "tf.argmax(张量，axis=操作的方向)"
   ]
  },
  {
   "cell_type": "code",
   "execution_count": 21,
   "metadata": {},
   "outputs": [
    {
     "name": "stdout",
     "output_type": "stream",
     "text": [
      "tf.Tensor([2 1 1], shape=(3,), dtype=int64)\n",
      "tf.Tensor([2 2 0], shape=(3,), dtype=int64)\n"
     ]
    }
   ],
   "source": [
    "m = tf.constant([[1,2,3],[4,5,6],[7,1,3]])\n",
    "n = tf.argmax(m, axis = 0)\n",
    "p = tf.argmax(m, axis = 1)\n",
    "print(n)\n",
    "print(p)"
   ]
  },
  {
   "cell_type": "markdown",
   "metadata": {},
   "source": []
  }
 ],
 "metadata": {
  "kernelspec": {
   "display_name": "Python 3",
   "language": "python",
   "name": "python3"
  },
  "language_info": {
   "codemirror_mode": {
    "name": "ipython",
    "version": 3
   },
   "file_extension": ".py",
   "mimetype": "text/x-python",
   "name": "python",
   "nbconvert_exporter": "python",
   "pygments_lexer": "ipython3",
   "version": "3.7.9"
  }
 },
 "nbformat": 4,
 "nbformat_minor": 4
}
