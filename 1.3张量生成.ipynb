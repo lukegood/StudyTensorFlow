{
 "cells": [
  {
   "cell_type": "code",
   "execution_count": 1,
   "metadata": {},
   "outputs": [],
   "source": [
    "import tensorflow as tf"
   ]
  },
  {
   "cell_type": "code",
   "execution_count": 3,
   "metadata": {},
   "outputs": [],
   "source": [
    "import numpy as np"
   ]
  },
  {
   "cell_type": "markdown",
   "metadata": {},
   "source": [
    "1、利用tf.constant生成张量，第一个参数是张量里的具体内容，第二个参数是张量的数据类型。  \n",
    "看张量是几维的，数shape里的逗号，逗号隔开了几个数字，这个张量就是几维的。然后看每个数字大小，这个数字有多大，说明在这一维度有多少元素。"
   ]
  },
  {
   "cell_type": "code",
   "execution_count": 2,
   "metadata": {
    "scrolled": true
   },
   "outputs": [
    {
     "name": "stdout",
     "output_type": "stream",
     "text": [
      "tf.Tensor([1 5], shape=(2,), dtype=int64)\n",
      "<dtype: 'int64'>\n",
      "(2,)\n"
     ]
    }
   ],
   "source": [
    "a = tf.constant([1, 5], dtype = tf.int64)\n",
    "print(a)\n",
    "print(a.dtype)\n",
    "print(a.shape)"
   ]
  },
  {
   "cell_type": "markdown",
   "metadata": {},
   "source": [
    "2、可以通过tf.convert_to_tensor将numpy格式的数据转换成tensor。  \n",
    "格式：tf.convert_to_tensor(数据名， 数据类型)"
   ]
  },
  {
   "cell_type": "code",
   "execution_count": 6,
   "metadata": {
    "scrolled": true
   },
   "outputs": [
    {
     "name": "stdout",
     "output_type": "stream",
     "text": [
      "[0 1 2 3 4]\n",
      "tf.Tensor([0 1 2 3 4], shape=(5,), dtype=int64)\n"
     ]
    }
   ],
   "source": [
    "a = np.arange(0, 5)\n",
    "b = tf.convert_to_tensor(a, dtype=tf.int64)\n",
    "print(a)\n",
    "print(b)"
   ]
  },
  {
   "cell_type": "markdown",
   "metadata": {},
   "source": [
    "3、tf.zeros(维度)，用于创建元素都是0的张量。  \n",
    "tf.ones(dim)，用于创建元素都是1的张量  \n",
    "tf.fill(维度，想要填充的值)，用于创建指定维度、填充指定值的张量  \n",
    "维度在填写的时候，如果是一维的，直接写；  \n",
    "如果是多维的，用中括号[]括起来，然后每个维度之间用逗号隔开。"
   ]
  },
  {
   "cell_type": "code",
   "execution_count": 8,
   "metadata": {},
   "outputs": [
    {
     "name": "stdout",
     "output_type": "stream",
     "text": [
      "tf.Tensor(\n",
      "[[0. 0. 0. 0.]\n",
      " [0. 0. 0. 0.]\n",
      " [0. 0. 0. 0.]], shape=(3, 4), dtype=float32) tf.Tensor(\n",
      "[[1. 1. 1. 1. 1.]\n",
      " [1. 1. 1. 1. 1.]\n",
      " [1. 1. 1. 1. 1.]\n",
      " [1. 1. 1. 1. 1.]], shape=(4, 5), dtype=float32) tf.Tensor(\n",
      "[[6 6]\n",
      " [6 6]], shape=(2, 2), dtype=int32)\n"
     ]
    }
   ],
   "source": [
    "c = tf.zeros([3, 4])\n",
    "d = tf.ones([4, 5])\n",
    "e = tf.fill([2, 2], 6)\n",
    "print(c, d, e)"
   ]
  },
  {
   "cell_type": "markdown",
   "metadata": {},
   "source": [
    "4、如何随机生成数据，使得生成的数据服从正态分布？  \n",
    "tf.random.normal(维度，mean=均值，stddev=标准差)，这样生成的随机值满足指定的正太分布。  \n",
    "tf.random.truncated_normal(维度，mean=均值，stddev=标准差），这样的正态分布随机值落在正负两个标准差之内。"
   ]
  },
  {
   "cell_type": "code",
   "execution_count": 9,
   "metadata": {},
   "outputs": [
    {
     "name": "stdout",
     "output_type": "stream",
     "text": [
      "tf.Tensor(\n",
      "[[1.0238166 0.5016341 0.9328464]\n",
      " [0.5213056 1.745805  0.2926699]], shape=(2, 3), dtype=float32)\n",
      "tf.Tensor(\n",
      "[[ 0.31841895  0.28715572 -0.761616  ]\n",
      " [ 0.6590975  -0.22640288 -0.62056744]], shape=(2, 3), dtype=float32)\n"
     ]
    }
   ],
   "source": [
    "f = tf.random.normal([2,3], mean=0.5, stddev=1)\n",
    "g = tf.random.truncated_normal([2,3], mean=0.5, stddev=1)\n",
    "print(f)\n",
    "print(g)"
   ]
  },
  {
   "cell_type": "markdown",
   "metadata": {},
   "source": [
    "5、如何生成均匀分布的随机数据？  \n",
    "tf.random.uniform(维度，minval=最小值，maxval=最大值），生成在[minval, maxval)范围内的均匀分布随机数。注意是左闭右开区间！"
   ]
  },
  {
   "cell_type": "code",
   "execution_count": 10,
   "metadata": {},
   "outputs": [
    {
     "name": "stdout",
     "output_type": "stream",
     "text": [
      "tf.Tensor(\n",
      "[[1.8615977 1.4800426 1.5563991]\n",
      " [1.0055131 1.6682237 1.1136595]], shape=(2, 3), dtype=float32)\n"
     ]
    }
   ],
   "source": [
    "h = tf.random.uniform([2,3], minval=1, maxval=2)\n",
    "print(h)"
   ]
  },
  {
   "cell_type": "markdown",
   "metadata": {},
   "source": []
  }
 ],
 "metadata": {
  "kernelspec": {
   "display_name": "Python 3",
   "language": "python",
   "name": "python3"
  },
  "language_info": {
   "codemirror_mode": {
    "name": "ipython",
    "version": 3
   },
   "file_extension": ".py",
   "mimetype": "text/x-python",
   "name": "python",
   "nbconvert_exporter": "python",
   "pygments_lexer": "ipython3",
   "version": "3.7.9"
  }
 },
 "nbformat": 4,
 "nbformat_minor": 4
}
